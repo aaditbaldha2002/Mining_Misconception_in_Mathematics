{
 "cells": [
  {
   "cell_type": "markdown",
   "id": "ff6fc063",
   "metadata": {},
   "source": [
    "### Importing necessary libraries"
   ]
  },
  {
   "cell_type": "code",
   "execution_count": 1,
   "id": "fb790fa7",
   "metadata": {},
   "outputs": [],
   "source": [
    "import pandas as pd\n",
    "import numpy as np\n",
    "import matplotlib.pyplot as plt"
   ]
  },
  {
   "cell_type": "markdown",
   "id": "61e9b288",
   "metadata": {},
   "source": [
    "### Loading the dataset"
   ]
  },
  {
   "cell_type": "code",
   "execution_count": 2,
   "id": "38711a07",
   "metadata": {},
   "outputs": [
    {
     "data": {
      "text/html": [
       "<div>\n",
       "<style scoped>\n",
       "    .dataframe tbody tr th:only-of-type {\n",
       "        vertical-align: middle;\n",
       "    }\n",
       "\n",
       "    .dataframe tbody tr th {\n",
       "        vertical-align: top;\n",
       "    }\n",
       "\n",
       "    .dataframe thead th {\n",
       "        text-align: right;\n",
       "    }\n",
       "</style>\n",
       "<table border=\"1\" class=\"dataframe\">\n",
       "  <thead>\n",
       "    <tr style=\"text-align: right;\">\n",
       "      <th></th>\n",
       "      <th>QuestionId</th>\n",
       "      <th>ConstructId</th>\n",
       "      <th>ConstructName</th>\n",
       "      <th>SubjectId</th>\n",
       "      <th>SubjectName</th>\n",
       "      <th>CorrectAnswer</th>\n",
       "      <th>QuestionText</th>\n",
       "      <th>AnswerAText</th>\n",
       "      <th>AnswerBText</th>\n",
       "      <th>AnswerCText</th>\n",
       "      <th>AnswerDText</th>\n",
       "      <th>MisconceptionAId</th>\n",
       "      <th>MisconceptionBId</th>\n",
       "      <th>MisconceptionCId</th>\n",
       "      <th>MisconceptionDId</th>\n",
       "    </tr>\n",
       "  </thead>\n",
       "  <tbody>\n",
       "    <tr>\n",
       "      <th>0</th>\n",
       "      <td>0</td>\n",
       "      <td>856</td>\n",
       "      <td>Use the order of operations to carry out calcu...</td>\n",
       "      <td>33</td>\n",
       "      <td>BIDMAS</td>\n",
       "      <td>A</td>\n",
       "      <td>\\[\\r\\n3 \\times 2+4-5\\r\\n\\]\\r\\nWhere do the bra...</td>\n",
       "      <td>\\( 3 \\times(2+4)-5 \\)</td>\n",
       "      <td>\\( 3 \\times 2+(4-5) \\)</td>\n",
       "      <td>\\( 3 \\times(2+4-5) \\)</td>\n",
       "      <td>Does not need brackets</td>\n",
       "      <td>NaN</td>\n",
       "      <td>NaN</td>\n",
       "      <td>NaN</td>\n",
       "      <td>1672.0</td>\n",
       "    </tr>\n",
       "    <tr>\n",
       "      <th>1</th>\n",
       "      <td>1</td>\n",
       "      <td>1612</td>\n",
       "      <td>Simplify an algebraic fraction by factorising ...</td>\n",
       "      <td>1077</td>\n",
       "      <td>Simplifying Algebraic Fractions</td>\n",
       "      <td>D</td>\n",
       "      <td>Simplify the following, if possible: \\( \\frac{...</td>\n",
       "      <td>\\( m+1 \\)</td>\n",
       "      <td>\\( m+2 \\)</td>\n",
       "      <td>\\( m-1 \\)</td>\n",
       "      <td>Does not simplify</td>\n",
       "      <td>2142.0</td>\n",
       "      <td>143.0</td>\n",
       "      <td>2142.0</td>\n",
       "      <td>NaN</td>\n",
       "    </tr>\n",
       "    <tr>\n",
       "      <th>2</th>\n",
       "      <td>2</td>\n",
       "      <td>2774</td>\n",
       "      <td>Calculate the range from a list of data</td>\n",
       "      <td>339</td>\n",
       "      <td>Range and Interquartile Range from a List of Data</td>\n",
       "      <td>B</td>\n",
       "      <td>Tom and Katie are discussing the \\( 5 \\) plant...</td>\n",
       "      <td>Only\\r\\nTom</td>\n",
       "      <td>Only\\r\\nKatie</td>\n",
       "      <td>Both Tom and Katie</td>\n",
       "      <td>Neither is correct</td>\n",
       "      <td>1287.0</td>\n",
       "      <td>NaN</td>\n",
       "      <td>1287.0</td>\n",
       "      <td>1073.0</td>\n",
       "    </tr>\n",
       "    <tr>\n",
       "      <th>3</th>\n",
       "      <td>3</td>\n",
       "      <td>2377</td>\n",
       "      <td>Recall and use the intersecting diagonals prop...</td>\n",
       "      <td>88</td>\n",
       "      <td>Properties of Quadrilaterals</td>\n",
       "      <td>C</td>\n",
       "      <td>The angles highlighted on this rectangle with ...</td>\n",
       "      <td>acute</td>\n",
       "      <td>obtuse</td>\n",
       "      <td>\\( 90^{\\circ} \\)</td>\n",
       "      <td>Not enough information</td>\n",
       "      <td>1180.0</td>\n",
       "      <td>1180.0</td>\n",
       "      <td>NaN</td>\n",
       "      <td>1180.0</td>\n",
       "    </tr>\n",
       "    <tr>\n",
       "      <th>4</th>\n",
       "      <td>4</td>\n",
       "      <td>3387</td>\n",
       "      <td>Substitute positive integer values into formul...</td>\n",
       "      <td>67</td>\n",
       "      <td>Substitution into Formula</td>\n",
       "      <td>A</td>\n",
       "      <td>The equation \\( f=3 r^{2}+3 \\) is used to find...</td>\n",
       "      <td>\\( 30 \\)</td>\n",
       "      <td>\\( 27 \\)</td>\n",
       "      <td>\\( 51 \\)</td>\n",
       "      <td>\\( 24 \\)</td>\n",
       "      <td>NaN</td>\n",
       "      <td>NaN</td>\n",
       "      <td>NaN</td>\n",
       "      <td>1818.0</td>\n",
       "    </tr>\n",
       "  </tbody>\n",
       "</table>\n",
       "</div>"
      ],
      "text/plain": [
       "   QuestionId  ConstructId                                      ConstructName  \\\n",
       "0           0          856  Use the order of operations to carry out calcu...   \n",
       "1           1         1612  Simplify an algebraic fraction by factorising ...   \n",
       "2           2         2774            Calculate the range from a list of data   \n",
       "3           3         2377  Recall and use the intersecting diagonals prop...   \n",
       "4           4         3387  Substitute positive integer values into formul...   \n",
       "\n",
       "   SubjectId                                        SubjectName CorrectAnswer  \\\n",
       "0         33                                             BIDMAS             A   \n",
       "1       1077                    Simplifying Algebraic Fractions             D   \n",
       "2        339  Range and Interquartile Range from a List of Data             B   \n",
       "3         88                       Properties of Quadrilaterals             C   \n",
       "4         67                          Substitution into Formula             A   \n",
       "\n",
       "                                        QuestionText            AnswerAText  \\\n",
       "0  \\[\\r\\n3 \\times 2+4-5\\r\\n\\]\\r\\nWhere do the bra...  \\( 3 \\times(2+4)-5 \\)   \n",
       "1  Simplify the following, if possible: \\( \\frac{...              \\( m+1 \\)   \n",
       "2  Tom and Katie are discussing the \\( 5 \\) plant...            Only\\r\\nTom   \n",
       "3  The angles highlighted on this rectangle with ...                  acute   \n",
       "4  The equation \\( f=3 r^{2}+3 \\) is used to find...               \\( 30 \\)   \n",
       "\n",
       "              AnswerBText            AnswerCText             AnswerDText  \\\n",
       "0  \\( 3 \\times 2+(4-5) \\)  \\( 3 \\times(2+4-5) \\)  Does not need brackets   \n",
       "1               \\( m+2 \\)              \\( m-1 \\)       Does not simplify   \n",
       "2           Only\\r\\nKatie     Both Tom and Katie      Neither is correct   \n",
       "3                  obtuse       \\( 90^{\\circ} \\)  Not enough information   \n",
       "4                \\( 27 \\)               \\( 51 \\)                \\( 24 \\)   \n",
       "\n",
       "   MisconceptionAId  MisconceptionBId  MisconceptionCId  MisconceptionDId  \n",
       "0               NaN               NaN               NaN            1672.0  \n",
       "1            2142.0             143.0            2142.0               NaN  \n",
       "2            1287.0               NaN            1287.0            1073.0  \n",
       "3            1180.0            1180.0               NaN            1180.0  \n",
       "4               NaN               NaN               NaN            1818.0  "
      ]
     },
     "execution_count": 2,
     "metadata": {},
     "output_type": "execute_result"
    }
   ],
   "source": [
    "dataset = pd.read_csv('train.csv')\n",
    "dataset.head()"
   ]
  },
  {
   "cell_type": "markdown",
   "id": "e34ab689",
   "metadata": {},
   "source": [
    "### Dataset overview"
   ]
  },
  {
   "cell_type": "code",
   "execution_count": 7,
   "id": "b9e4786f",
   "metadata": {},
   "outputs": [
    {
     "data": {
      "text/html": [
       "<div>\n",
       "<style scoped>\n",
       "    .dataframe tbody tr th:only-of-type {\n",
       "        vertical-align: middle;\n",
       "    }\n",
       "\n",
       "    .dataframe tbody tr th {\n",
       "        vertical-align: top;\n",
       "    }\n",
       "\n",
       "    .dataframe thead th {\n",
       "        text-align: right;\n",
       "    }\n",
       "</style>\n",
       "<table border=\"1\" class=\"dataframe\">\n",
       "  <thead>\n",
       "    <tr style=\"text-align: right;\">\n",
       "      <th></th>\n",
       "      <th>QuestionId</th>\n",
       "      <th>ConstructId</th>\n",
       "      <th>SubjectId</th>\n",
       "      <th>MisconceptionAId</th>\n",
       "      <th>MisconceptionBId</th>\n",
       "      <th>MisconceptionCId</th>\n",
       "      <th>MisconceptionDId</th>\n",
       "    </tr>\n",
       "  </thead>\n",
       "  <tbody>\n",
       "    <tr>\n",
       "      <th>count</th>\n",
       "      <td>1869.000000</td>\n",
       "      <td>1869.000000</td>\n",
       "      <td>1869.000000</td>\n",
       "      <td>1135.000000</td>\n",
       "      <td>1118.000000</td>\n",
       "      <td>1080.000000</td>\n",
       "      <td>1037.000000</td>\n",
       "    </tr>\n",
       "    <tr>\n",
       "      <th>mean</th>\n",
       "      <td>934.000000</td>\n",
       "      <td>1613.261637</td>\n",
       "      <td>225.370787</td>\n",
       "      <td>1308.599119</td>\n",
       "      <td>1308.029517</td>\n",
       "      <td>1285.300926</td>\n",
       "      <td>1264.568949</td>\n",
       "    </tr>\n",
       "    <tr>\n",
       "      <th>std</th>\n",
       "      <td>539.678145</td>\n",
       "      <td>1060.591804</td>\n",
       "      <td>238.536233</td>\n",
       "      <td>744.518370</td>\n",
       "      <td>766.487351</td>\n",
       "      <td>742.212198</td>\n",
       "      <td>759.818341</td>\n",
       "    </tr>\n",
       "    <tr>\n",
       "      <th>min</th>\n",
       "      <td>0.000000</td>\n",
       "      <td>4.000000</td>\n",
       "      <td>33.000000</td>\n",
       "      <td>1.000000</td>\n",
       "      <td>1.000000</td>\n",
       "      <td>2.000000</td>\n",
       "      <td>0.000000</td>\n",
       "    </tr>\n",
       "    <tr>\n",
       "      <th>25%</th>\n",
       "      <td>467.000000</td>\n",
       "      <td>575.000000</td>\n",
       "      <td>92.000000</td>\n",
       "      <td>686.000000</td>\n",
       "      <td>628.500000</td>\n",
       "      <td>652.250000</td>\n",
       "      <td>578.000000</td>\n",
       "    </tr>\n",
       "    <tr>\n",
       "      <th>50%</th>\n",
       "      <td>934.000000</td>\n",
       "      <td>1470.000000</td>\n",
       "      <td>203.000000</td>\n",
       "      <td>1336.000000</td>\n",
       "      <td>1379.000000</td>\n",
       "      <td>1294.500000</td>\n",
       "      <td>1282.000000</td>\n",
       "    </tr>\n",
       "    <tr>\n",
       "      <th>75%</th>\n",
       "      <td>1401.000000</td>\n",
       "      <td>2637.000000</td>\n",
       "      <td>238.000000</td>\n",
       "      <td>1954.000000</td>\n",
       "      <td>1970.000000</td>\n",
       "      <td>1912.000000</td>\n",
       "      <td>1897.000000</td>\n",
       "    </tr>\n",
       "    <tr>\n",
       "      <th>max</th>\n",
       "      <td>1868.000000</td>\n",
       "      <td>3526.000000</td>\n",
       "      <td>1984.000000</td>\n",
       "      <td>2585.000000</td>\n",
       "      <td>2586.000000</td>\n",
       "      <td>2585.000000</td>\n",
       "      <td>2583.000000</td>\n",
       "    </tr>\n",
       "  </tbody>\n",
       "</table>\n",
       "</div>"
      ],
      "text/plain": [
       "        QuestionId  ConstructId    SubjectId  MisconceptionAId  \\\n",
       "count  1869.000000  1869.000000  1869.000000       1135.000000   \n",
       "mean    934.000000  1613.261637   225.370787       1308.599119   \n",
       "std     539.678145  1060.591804   238.536233        744.518370   \n",
       "min       0.000000     4.000000    33.000000          1.000000   \n",
       "25%     467.000000   575.000000    92.000000        686.000000   \n",
       "50%     934.000000  1470.000000   203.000000       1336.000000   \n",
       "75%    1401.000000  2637.000000   238.000000       1954.000000   \n",
       "max    1868.000000  3526.000000  1984.000000       2585.000000   \n",
       "\n",
       "       MisconceptionBId  MisconceptionCId  MisconceptionDId  \n",
       "count       1118.000000       1080.000000       1037.000000  \n",
       "mean        1308.029517       1285.300926       1264.568949  \n",
       "std          766.487351        742.212198        759.818341  \n",
       "min            1.000000          2.000000          0.000000  \n",
       "25%          628.500000        652.250000        578.000000  \n",
       "50%         1379.000000       1294.500000       1282.000000  \n",
       "75%         1970.000000       1912.000000       1897.000000  \n",
       "max         2586.000000       2585.000000       2583.000000  "
      ]
     },
     "execution_count": 7,
     "metadata": {},
     "output_type": "execute_result"
    }
   ],
   "source": [
    "dataset.describe()"
   ]
  },
  {
   "cell_type": "code",
   "execution_count": 3,
   "id": "70c78bc7",
   "metadata": {},
   "outputs": [
    {
     "data": {
      "text/plain": [
       "Index(['QuestionId', 'ConstructId', 'ConstructName', 'SubjectId',\n",
       "       'SubjectName', 'CorrectAnswer', 'QuestionText', 'AnswerAText',\n",
       "       'AnswerBText', 'AnswerCText', 'AnswerDText', 'MisconceptionAId',\n",
       "       'MisconceptionBId', 'MisconceptionCId', 'MisconceptionDId'],\n",
       "      dtype='object')"
      ]
     },
     "execution_count": 3,
     "metadata": {},
     "output_type": "execute_result"
    }
   ],
   "source": [
    "dataset.columns"
   ]
  },
  {
   "cell_type": "code",
   "execution_count": 4,
   "id": "8340be86",
   "metadata": {},
   "outputs": [
    {
     "data": {
      "text/plain": [
       "QuestionId            int64\n",
       "ConstructId           int64\n",
       "ConstructName        object\n",
       "SubjectId             int64\n",
       "SubjectName          object\n",
       "CorrectAnswer        object\n",
       "QuestionText         object\n",
       "AnswerAText          object\n",
       "AnswerBText          object\n",
       "AnswerCText          object\n",
       "AnswerDText          object\n",
       "MisconceptionAId    float64\n",
       "MisconceptionBId    float64\n",
       "MisconceptionCId    float64\n",
       "MisconceptionDId    float64\n",
       "dtype: object"
      ]
     },
     "execution_count": 4,
     "metadata": {},
     "output_type": "execute_result"
    }
   ],
   "source": [
    "dataset.dtypes"
   ]
  },
  {
   "cell_type": "code",
   "execution_count": 6,
   "id": "ef2d0571",
   "metadata": {},
   "outputs": [
    {
     "data": {
      "text/plain": [
       "(1869, 15)"
      ]
     },
     "execution_count": 6,
     "metadata": {},
     "output_type": "execute_result"
    }
   ],
   "source": [
    "dataset.shape"
   ]
  },
  {
   "cell_type": "code",
   "execution_count": 9,
   "id": "426352d6",
   "metadata": {},
   "outputs": [
    {
     "data": {
      "text/plain": [
       "QuestionId           0.000000\n",
       "ConstructId          0.000000\n",
       "ConstructName        0.000000\n",
       "SubjectId            0.000000\n",
       "SubjectName          0.000000\n",
       "CorrectAnswer        0.000000\n",
       "QuestionText         0.000000\n",
       "AnswerAText          0.000000\n",
       "AnswerBText          0.000000\n",
       "AnswerCText          0.000000\n",
       "AnswerDText          0.000000\n",
       "MisconceptionAId    39.272338\n",
       "MisconceptionBId    40.181915\n",
       "MisconceptionCId    42.215088\n",
       "MisconceptionDId    44.515784\n",
       "dtype: float64"
      ]
     },
     "execution_count": 9,
     "metadata": {},
     "output_type": "execute_result"
    }
   ],
   "source": [
    "dataset.isna().sum()/dataset.shape[0]*100"
   ]
  },
  {
   "cell_type": "markdown",
   "id": "1349880f",
   "metadata": {},
   "source": [
    "#### So about 40% of the data is missing for the target features"
   ]
  },
  {
   "cell_type": "code",
   "execution_count": 13,
   "id": "c69723a9",
   "metadata": {},
   "outputs": [
    {
     "name": "stdout",
     "output_type": "stream",
     "text": [
      "[   4   10   18   20   26   27   28   29   30   31   32   42   46   48\n",
      "   50   52   55   59   67   69   71   73   78   81   84   88   93   95\n",
      "   98   99  100  102  106  111  161  162  165  172  178  179  180  181\n",
      "  192  196  197  198  203  204  206  207  208  209  210  211  212  216\n",
      "  217  218  219  220  221  222  223  224  233  238  239  246  247  255\n",
      "  256  261  265  266  270  271  274  275  277  284  287  296  297  298\n",
      "  301  302  303  306  311  312  313  314  315  316  318  321  322  325\n",
      "  328  329  331  334  336  342  343  344  345  348  349  362  363  364\n",
      "  369  371  373  374  375  376  378  380  381  382  383  384  385  386\n",
      "  387  397  399  400  401  402  403  408  409  410  411  414  415  418\n",
      "  419  420  422  423  424  425  427  428  429  433  435  436  437  440\n",
      "  441  444  445  446  447  452  453  457  460  461  465  469  471  473\n",
      "  474  476  478  479  480  481  483  489  513  531  547  551  559  560\n",
      "  567  571  572  573  575  576  577  578  579  580  586  591  638  639\n",
      "  665  690  693  695  699  700  701  702  703  704  706  707  721  722\n",
      "  737  739  797  849  854  855  856  857  860  867  873  875  877  886\n",
      "  898  899  900  902  908  910  919  920  921  922  926  929  941  947\n",
      "  948  953  954  955  957  960  963  964  967  968  978  980  981  982\n",
      "  984  985  987  988  989  996  997 1002 1006 1007 1017 1030 1034 1035\n",
      " 1042 1044 1045 1052 1065 1075 1091 1093 1094 1096 1097 1098 1099 1100\n",
      " 1101 1102 1103 1104 1105 1107 1110 1123 1133 1134 1137 1138 1139 1142\n",
      " 1148 1151 1163 1206 1214 1217 1261 1262 1263 1264 1266 1267 1268 1269\n",
      " 1270 1271 1272 1273 1274 1275 1276 1277 1279 1280 1281 1288 1289 1290\n",
      " 1320 1321 1328 1354 1375 1377 1378 1382 1385 1399 1400 1403 1405 1407\n",
      " 1408 1409 1410 1411 1412 1414 1421 1425 1426 1427 1428 1430 1431 1433\n",
      " 1434 1437 1438 1439 1440 1442 1443 1445 1446 1447 1448 1450 1452 1453\n",
      " 1454 1458 1459 1460 1464 1466 1467 1470 1472 1476 1477 1479 1481 1482\n",
      " 1483 1484 1488 1489 1490 1492 1493 1494 1501 1505 1506 1507 1508 1509\n",
      " 1521 1522 1523 1525 1526 1527 1529 1530 1531 1533 1549 1551 1556 1560\n",
      " 1561 1562 1568 1569 1576 1577 1595 1596 1597 1610 1612 1613 1614 1615\n",
      " 1616 1617 1623 1624 1627 1628 1629 1632 1654 1655 1660 1662 1671 1672\n",
      " 1677 1684 1737 1738 1739 1740 1741 1742 1743 1744 1745 1746 1747 1750\n",
      " 1754 1755 1756 1757 1758 1761 1776 1781 1786 1790 1795 1804 1805 1806\n",
      " 1810 1815 1817 1818 1821 1872 1874 1876 1892 1898 1901 1902 1903 1936\n",
      " 1960 1961 1962 1999 2008 2010 2012 2026 2028 2031 2033 2035 2040 2052\n",
      " 2074 2076 2077 2087 2099 2105 2112 2113 2114 2141 2142 2144 2145 2150\n",
      " 2161 2174 2176 2211 2228 2229 2232 2236 2238 2239 2240 2253 2254 2258\n",
      " 2282 2296 2297 2298 2299 2301 2303 2306 2331 2347 2352 2355 2357 2358\n",
      " 2376 2377 2390 2391 2393 2406 2420 2427 2432 2434 2438 2440 2451 2456\n",
      " 2462 2480 2548 2560 2561 2564 2566 2570 2571 2574 2576 2578 2580 2582\n",
      " 2585 2587 2593 2598 2600 2609 2610 2612 2622 2633 2634 2635 2636 2637\n",
      " 2642 2646 2647 2648 2649 2650 2651 2653 2656 2657 2674 2676 2680 2687\n",
      " 2695 2707 2708 2709 2711 2714 2723 2728 2729 2736 2737 2740 2741 2742\n",
      " 2744 2749 2754 2758 2759 2760 2761 2762 2765 2770 2774 2786 2789 2790\n",
      " 2792 2849 2861 2862 2863 2864 2866 2867 2869 2870 2904 2907 2908 2930\n",
      " 2931 2934 2942 2944 2947 2948 2950 2969 2971 2972 2974 3028 3030 3032\n",
      " 3033 3040 3044 3064 3065 3066 3072 3074 3085 3086 3104 3110 3112 3114\n",
      " 3115 3118 3119 3120 3125 3129 3130 3132 3133 3134 3136 3138 3141 3143\n",
      " 3144 3145 3163 3174 3175 3176 3178 3179 3180 3181 3183 3184 3190 3192\n",
      " 3193 3202 3206 3207 3211 3212 3215 3218 3222 3225 3226 3228 3229 3265\n",
      " 3270 3272 3273 3279 3281 3282 3291 3316 3318 3319 3320 3321 3322 3326\n",
      " 3329 3330 3337 3338 3339 3340 3341 3342 3343 3345 3346 3349 3357 3381\n",
      " 3382 3387 3391 3394 3395 3403 3406 3407 3408 3409 3411 3412 3416 3422\n",
      " 3423 3436 3437 3440 3441 3488 3489 3504 3509 3510 3513 3515 3516 3522\n",
      " 3526]\n"
     ]
    },
    {
     "data": {
      "text/plain": [
       "757"
      ]
     },
     "execution_count": 13,
     "metadata": {},
     "output_type": "execute_result"
    }
   ],
   "source": [
    "# construct id feature can be unique so we might drop it but first we need to check if it true\n",
    "\n",
    "print(np.sort(dataset['ConstructId'].unique()))\n",
    "len(dataset['ConstructId'].unique())\n"
   ]
  }
 ],
 "metadata": {
  "kernelspec": {
   "display_name": "AaHB_CS556B_Env",
   "language": "python",
   "name": "python3"
  },
  "language_info": {
   "codemirror_mode": {
    "name": "ipython",
    "version": 3
   },
   "file_extension": ".py",
   "mimetype": "text/x-python",
   "name": "python",
   "nbconvert_exporter": "python",
   "pygments_lexer": "ipython3",
   "version": "3.11.4"
  }
 },
 "nbformat": 4,
 "nbformat_minor": 5
}
